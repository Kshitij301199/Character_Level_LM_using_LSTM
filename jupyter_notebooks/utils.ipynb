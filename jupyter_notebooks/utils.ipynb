{
 "cells": [
  {
   "cell_type": "code",
   "execution_count": 1,
   "metadata": {},
   "outputs": [],
   "source": [
    "import unidecode\n",
    "import string\n",
    "import random\n",
    "import re\n",
    "import time\n",
    "import math\n",
    "import torch\n",
    "\n",
    "from torch.autograd import Variable"
   ]
  },
  {
   "cell_type": "code",
   "execution_count": 2,
   "metadata": {},
   "outputs": [],
   "source": [
    "CHUNK_LEN = 200\n",
    "TRAIN_PATH = '../data/dickens_train.txt'\n",
    "\n",
    "def load_dataset(path):\n",
    "    all_characters = string.printable\n",
    "    n_characters = len(all_characters)\n",
    "\n",
    "    file = unidecode.unidecode(open(path, 'r').read())\n",
    "    return file"
   ]
  },
  {
   "cell_type": "code",
   "execution_count": 3,
   "metadata": {},
   "outputs": [],
   "source": [
    "data = load_dataset(TRAIN_PATH)"
   ]
  },
  {
   "cell_type": "code",
   "execution_count": 4,
   "metadata": {},
   "outputs": [
    {
     "data": {
      "text/plain": [
       "1136673"
      ]
     },
     "execution_count": 4,
     "metadata": {},
     "output_type": "execute_result"
    }
   ],
   "source": [
    "len(data)"
   ]
  },
  {
   "cell_type": "code",
   "execution_count": 5,
   "metadata": {},
   "outputs": [
    {
     "data": {
      "text/plain": [
       "'DAVID'"
      ]
     },
     "execution_count": 5,
     "metadata": {},
     "output_type": "execute_result"
    }
   ],
   "source": [
    "data[0:5]"
   ]
  },
  {
   "cell_type": "code",
   "execution_count": 6,
   "metadata": {},
   "outputs": [
    {
     "data": {
      "text/plain": [
       "'a'"
      ]
     },
     "execution_count": 6,
     "metadata": {},
     "output_type": "execute_result"
    }
   ],
   "source": [
    "data[2032]"
   ]
  },
  {
   "cell_type": "code",
   "execution_count": 7,
   "metadata": {},
   "outputs": [],
   "source": [
    "def random_chunk():\n",
    "    file = load_dataset(TRAIN_PATH)\n",
    "    start_index = random.randint(0, len(file) - CHUNK_LEN - 1)\n",
    "    end_index = start_index + CHUNK_LEN + 1\n",
    "    return file[start_index:end_index]"
   ]
  },
  {
   "cell_type": "code",
   "execution_count": 8,
   "metadata": {},
   "outputs": [],
   "source": [
    "data_chunk = random_chunk()"
   ]
  },
  {
   "cell_type": "code",
   "execution_count": 9,
   "metadata": {},
   "outputs": [
    {
     "name": "stdout",
     "output_type": "stream",
     "text": [
      "hing further to say, \n",
      "sir, except that I hope you will bear with me and make allowance \n",
      "for me.'\n",
      "\n",
      "'Of that, Mr. Neville, you may be sure,' returned the Minor Canon.  \n",
      "'I don't preach more than I can he\n"
     ]
    }
   ],
   "source": [
    "print(data_chunk)"
   ]
  },
  {
   "cell_type": "code",
   "execution_count": 10,
   "metadata": {},
   "outputs": [],
   "source": [
    "all_characters = string.printable"
   ]
  },
  {
   "cell_type": "code",
   "execution_count": 11,
   "metadata": {},
   "outputs": [
    {
     "data": {
      "text/plain": [
       "'0123456789abcdefghijklmnopqrstuvwxyzABCDEFGHIJKLMNOPQRSTUVWXYZ!\"#$%&\\'()*+,-./:;<=>?@[\\\\]^_`{|}~ \\t\\n\\r\\x0b\\x0c'"
      ]
     },
     "execution_count": 11,
     "metadata": {},
     "output_type": "execute_result"
    }
   ],
   "source": [
    "all_characters"
   ]
  },
  {
   "cell_type": "code",
   "execution_count": 12,
   "metadata": {},
   "outputs": [
    {
     "data": {
      "text/plain": [
       "tensor([0, 0, 0, 0, 0, 0, 0, 0, 0, 0, 0, 0, 0, 0, 0, 0, 0, 0, 0, 0, 0, 0, 0, 0,\n",
       "        0, 0, 0, 0, 0, 0, 0, 0, 0, 0, 0, 0, 0, 0, 0, 0, 0, 0, 0, 0, 0, 0, 0, 0,\n",
       "        0, 0, 0, 0, 0, 0, 0, 0, 0, 0, 0, 0, 0, 0, 0, 0, 0, 0, 0, 0, 0, 0, 0, 0,\n",
       "        0, 0, 0, 0, 0, 0, 0, 0, 0, 0, 0, 0, 0, 0, 0, 0, 0, 0, 0, 0, 0, 0, 0, 0,\n",
       "        0, 0, 0, 0, 0, 0, 0, 0, 0, 0, 0, 0, 0, 0, 0, 0, 0, 0, 0, 0, 0, 0, 0, 0,\n",
       "        0, 0, 0, 0, 0, 0, 0, 0, 0, 0, 0, 0, 0, 0, 0, 0, 0, 0, 0, 0, 0, 0, 0, 0,\n",
       "        0, 0, 0, 0, 0, 0, 0, 0, 0, 0, 0, 0, 0, 0, 0, 0, 0, 0, 0, 0, 0, 0, 0, 0,\n",
       "        0, 0, 0, 0, 0, 0, 0, 0, 0, 0, 0, 0, 0, 0, 0, 0, 0, 0, 0, 0, 0, 0, 0, 0,\n",
       "        0, 0, 0, 0, 0, 0, 0, 0, 0])"
      ]
     },
     "execution_count": 12,
     "metadata": {},
     "output_type": "execute_result"
    }
   ],
   "source": [
    "torch.zeros(len(data_chunk)).long()"
   ]
  },
  {
   "cell_type": "code",
   "execution_count": 13,
   "metadata": {},
   "outputs": [
    {
     "data": {
      "text/plain": [
       "38"
      ]
     },
     "execution_count": 13,
     "metadata": {},
     "output_type": "execute_result"
    }
   ],
   "source": [
    "all_characters.index(\"C\")"
   ]
  },
  {
   "cell_type": "code",
   "execution_count": 14,
   "metadata": {},
   "outputs": [],
   "source": [
    "def char_tensor(strings):\n",
    "    all_characters = string.printable\n",
    "    tensor = torch.zeros(len(strings)).long()\n",
    "    for index,char in enumerate(strings):\n",
    "        tensor[index] = all_characters.index(char)\n",
    "    return Variable(tensor)"
   ]
  },
  {
   "cell_type": "code",
   "execution_count": 15,
   "metadata": {},
   "outputs": [
    {
     "data": {
      "text/plain": [
       "tensor([17, 18, 23, 16, 94, 15, 30, 27, 29, 17, 14, 27, 94, 29, 24, 94, 28, 10,\n",
       "        34, 73, 94, 96, 28, 18, 27, 73, 94, 14, 33, 12, 14, 25, 29, 94, 29, 17,\n",
       "        10, 29, 94, 44, 94, 17, 24, 25, 14, 94, 34, 24, 30, 94, 32, 18, 21, 21,\n",
       "        94, 11, 14, 10, 27, 94, 32, 18, 29, 17, 94, 22, 14, 94, 10, 23, 13, 94,\n",
       "        22, 10, 20, 14, 94, 10, 21, 21, 24, 32, 10, 23, 12, 14, 94, 96, 15, 24,\n",
       "        27, 94, 22, 14, 75, 68, 96, 96, 68, 50, 15, 94, 29, 17, 10, 29, 73, 94,\n",
       "        48, 27, 75, 94, 49, 14, 31, 18, 21, 21, 14, 73, 94, 34, 24, 30, 94, 22,\n",
       "        10, 34, 94, 11, 14, 94, 28, 30, 27, 14, 73, 68, 94, 27, 14, 29, 30, 27,\n",
       "        23, 14, 13, 94, 29, 17, 14, 94, 48, 18, 23, 24, 27, 94, 38, 10, 23, 24,\n",
       "        23, 75, 94, 94, 96, 68, 44, 94, 13, 24, 23, 68, 29, 94, 25, 27, 14, 10,\n",
       "        12, 17, 94, 22, 24, 27, 14, 94, 29, 17, 10, 23, 94, 44, 94, 12, 10, 23,\n",
       "        94, 17, 14])"
      ]
     },
     "execution_count": 15,
     "metadata": {},
     "output_type": "execute_result"
    }
   ],
   "source": [
    "char_tensor(data_chunk)"
   ]
  },
  {
   "cell_type": "code",
   "execution_count": 16,
   "metadata": {},
   "outputs": [],
   "source": [
    "def random_training_set():\n",
    "    chunk = random_chunk()\n",
    "    inp = char_tensor(chunk[:-1])\n",
    "    target = char_tensor(chunk[1:])\n",
    "    return inp, target"
   ]
  },
  {
   "cell_type": "code",
   "execution_count": 17,
   "metadata": {},
   "outputs": [],
   "source": [
    "input,target = random_training_set()"
   ]
  },
  {
   "cell_type": "code",
   "execution_count": 18,
   "metadata": {},
   "outputs": [
    {
     "data": {
      "text/plain": [
       "tensor([14, 25, 94, 17, 18, 22, 94, 24, 30, 29, 73, 94, 10, 23, 13, 94, 29, 17,\n",
       "        14, 96, 12, 14, 27, 29, 10, 18, 23, 29, 34, 94, 32, 18, 29, 17, 94, 32,\n",
       "        17, 18, 12, 17, 94, 17, 14, 94, 12, 10, 22, 14, 94, 18, 23, 73, 94, 10,\n",
       "        23, 13, 94, 29, 30, 22, 11, 21, 14, 13, 94, 29, 17, 14, 94, 48, 14, 22,\n",
       "        24, 27, 18, 10, 21, 94, 24, 30, 29, 94, 24, 15, 96, 10, 21, 21, 94, 28,\n",
       "        17, 10, 25, 14, 73, 94, 22, 10, 13, 14, 94, 10, 94, 13, 14, 14, 25, 94,\n",
       "        18, 22, 25, 27, 14, 28, 28, 18, 24, 23, 94, 24, 23, 94, 22, 14, 75, 94,\n",
       "        94, 58, 17, 10, 29, 94, 48, 27, 75, 94, 39, 18, 12, 20, 94, 28, 30, 25,\n",
       "        25, 24, 28, 14, 13, 96, 32, 24, 30, 21, 13, 94, 12, 24, 22, 14, 94, 24,\n",
       "        15, 94, 29, 17, 14, 94, 48, 14, 22, 24, 27, 18, 10, 21, 73, 94, 18, 15,\n",
       "        94, 18, 29, 94, 32, 14, 27, 14, 94, 12, 24, 22, 25, 21, 14, 29, 14, 13,\n",
       "        78, 94])"
      ]
     },
     "execution_count": 18,
     "metadata": {},
     "output_type": "execute_result"
    }
   ],
   "source": [
    "input"
   ]
  },
  {
   "cell_type": "code",
   "execution_count": 19,
   "metadata": {},
   "outputs": [
    {
     "data": {
      "text/plain": [
       "tensor([25, 94, 17, 18, 22, 94, 24, 30, 29, 73, 94, 10, 23, 13, 94, 29, 17, 14,\n",
       "        96, 12, 14, 27, 29, 10, 18, 23, 29, 34, 94, 32, 18, 29, 17, 94, 32, 17,\n",
       "        18, 12, 17, 94, 17, 14, 94, 12, 10, 22, 14, 94, 18, 23, 73, 94, 10, 23,\n",
       "        13, 94, 29, 30, 22, 11, 21, 14, 13, 94, 29, 17, 14, 94, 48, 14, 22, 24,\n",
       "        27, 18, 10, 21, 94, 24, 30, 29, 94, 24, 15, 96, 10, 21, 21, 94, 28, 17,\n",
       "        10, 25, 14, 73, 94, 22, 10, 13, 14, 94, 10, 94, 13, 14, 14, 25, 94, 18,\n",
       "        22, 25, 27, 14, 28, 28, 18, 24, 23, 94, 24, 23, 94, 22, 14, 75, 94, 94,\n",
       "        58, 17, 10, 29, 94, 48, 27, 75, 94, 39, 18, 12, 20, 94, 28, 30, 25, 25,\n",
       "        24, 28, 14, 13, 96, 32, 24, 30, 21, 13, 94, 12, 24, 22, 14, 94, 24, 15,\n",
       "        94, 29, 17, 14, 94, 48, 14, 22, 24, 27, 18, 10, 21, 73, 94, 18, 15, 94,\n",
       "        18, 29, 94, 32, 14, 27, 14, 94, 12, 24, 22, 25, 21, 14, 29, 14, 13, 78,\n",
       "        94, 32])"
      ]
     },
     "execution_count": 19,
     "metadata": {},
     "output_type": "execute_result"
    }
   ],
   "source": [
    "target"
   ]
  },
  {
   "cell_type": "code",
   "execution_count": 22,
   "metadata": {},
   "outputs": [
    {
     "data": {
      "text/plain": [
       "'torch.LongTensor'"
      ]
     },
     "execution_count": 22,
     "metadata": {},
     "output_type": "execute_result"
    }
   ],
   "source": [
    "input.type()"
   ]
  },
  {
   "cell_type": "code",
   "execution_count": null,
   "metadata": {},
   "outputs": [],
   "source": []
  }
 ],
 "metadata": {
  "kernelspec": {
   "display_name": "Python 3",
   "language": "python",
   "name": "python3"
  },
  "language_info": {
   "codemirror_mode": {
    "name": "ipython",
    "version": 3
   },
   "file_extension": ".py",
   "mimetype": "text/x-python",
   "name": "python",
   "nbconvert_exporter": "python",
   "pygments_lexer": "ipython3",
   "version": "3.9.5"
  }
 },
 "nbformat": 4,
 "nbformat_minor": 2
}
